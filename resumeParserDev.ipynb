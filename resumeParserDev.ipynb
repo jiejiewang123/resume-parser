{
 "cells": [
  {
   "cell_type": "markdown",
   "id": "8c94ccf8",
   "metadata": {},
   "source": [
    "## Resume Parser Benchmarking Notebook\n",
    "This notebook benchmarks multiple free-tier LLMs to identify the best model for resume parsing, then uses that model to extract structured information from resumes.\n",
    "\n",
    "### Environment setup and instructions: \n",
    "1. Create a virtual environment: virtualenv --python venv\n",
    "2. Activate the virtual environment in windows: venv\\Scripts\\activate or source venv/bin/activate in macOS\n",
    "3. Install required packages in requirements.txt file: pip install -r requirements.txt\n",
    "4. Set personal API KEY: Create a .env file in the project root. Then add your Gemini API key: GEMINI_API_KEY='your_api_key'. \n",
    "5. Folder Structure: \n",
    "sample_resumes/ — contains resume files (PDF/DOCX) for testing\n",
    "parsed_results/ — stores parsed outputs as timestamped JSON files\n",
    ".env — holds your API key (excluded from GitHub via .gitignore)\n",
    "\n",
    "6. Notebook workflow: this notebook is organized into 7 parts: \n",
    "\n",
    "(1) import packages \n",
    "\n",
    "(2) load API \n",
    "\n",
    "(3) Load data and data processing \n",
    "\n",
    "(4) Define prompt and call model  \n",
    "\n",
    "(5)  Model prediction, selection and evaluation\n",
    "   --Includes performance metrics and visualizations comparing models \n",
    "\n",
    "(6) Parse the results using the best performed model \n",
    "   --One resume example is used as an example (\"resume1.pdf\"). \n",
    "    The notebook will parse that file using the top-performing model and save the results.\n",
    "    \n",
    "(7) Save results as json file to the folder: parsed_results. "
   ]
  },
  {
   "cell_type": "markdown",
   "id": "0a9ab725",
   "metadata": {},
   "source": [
    "## 1. Import packages"
   ]
  },
  {
   "cell_type": "code",
   "execution_count": 128,
   "id": "eeb07def",
   "metadata": {},
   "outputs": [],
   "source": [
    "import fitz  # PyMuPDF\n",
    "import docx\n",
    "import os\n",
    "import google.generativeai as genai\n",
    "import json\n",
    "import re\n",
    "import json, time\n",
    "import pandas as pd\n",
    "import numpy as np\n",
    "import matplotlib.pyplot as plt\n",
    "import google.generativeai as genai\n",
    "from dotenv import load_dotenv\n",
    "from typing import Dict\n",
    "from datetime import datetime"
   ]
  },
  {
   "cell_type": "markdown",
   "id": "419f6c3b",
   "metadata": {},
   "source": [
    "## 2. Load API Key"
   ]
  },
  {
   "cell_type": "markdown",
   "id": "651098fb",
   "metadata": {},
   "source": [
    "Note: \n",
    "\n",
    "Save your API Key in a .env file: GEMINI_API_KEY='your_api_key'; \n",
    "\n",
    "Load it using python-dotenv. "
   ]
  },
  {
   "cell_type": "code",
   "execution_count": 129,
   "id": "ad38208e",
   "metadata": {},
   "outputs": [],
   "source": [
    "load_dotenv()\n",
    "genai.configure(api_key=os.getenv(\"GEMINI_API_KEY\"))"
   ]
  },
  {
   "cell_type": "markdown",
   "id": "b507bbf0",
   "metadata": {},
   "source": [
    "## 3. Load data and data processing functions"
   ]
  },
  {
   "cell_type": "code",
   "execution_count": 130,
   "id": "baad982b",
   "metadata": {},
   "outputs": [],
   "source": [
    "# resume files folder path\n",
    "resume_path = \"sample_resumes/\" \n",
    "\n",
    "# list all the resume examples' names\n",
    "resume_files = [f for f in os.listdir(resume_path) if os.path.isfile(os.path.join(resume_path, f))]"
   ]
  },
  {
   "cell_type": "code",
   "execution_count": 131,
   "id": "bb4d0367",
   "metadata": {},
   "outputs": [],
   "source": [
    "# Manually labeled ground truth of resume examples in a separate json file for evaluation purpose\n",
    "with open(\"ground_truth.json\", \"r\") as f:\n",
    "    ground_truth = json.load(f)"
   ]
  },
  {
   "cell_type": "code",
   "execution_count": 132,
   "id": "41f0b1a8",
   "metadata": {},
   "outputs": [],
   "source": [
    "# read pdf format files\n",
    "def read_pdf(file_path):\n",
    "    doc = fitz.open(file_path)\n",
    "    text = \"\"\n",
    "    for page in doc:\n",
    "        text += page.get_text()\n",
    "    return text\n",
    "# read word format files\n",
    "def read_docx(file_path):\n",
    "    doc = docx.Document(file_path)\n",
    "    return \"\\n\".join([para.text for para in doc.paragraphs])"
   ]
  },
  {
   "cell_type": "code",
   "execution_count": 133,
   "id": "126fd724",
   "metadata": {},
   "outputs": [],
   "source": [
    "# chunk the long text resume if length is over 10K with 500 overlap. \n",
    "def sliding_chunks(text, size=30000, overlap=500):\n",
    "    return [text[i:i+size] for i in range(0, len(text), size - overlap)]"
   ]
  },
  {
   "cell_type": "code",
   "execution_count": 134,
   "id": "65796825",
   "metadata": {},
   "outputs": [],
   "source": [
    "def normalize(value):\n",
    "    # case insensitive handling: normalize all characters to lower case\n",
    "    if isinstance(value, str):\n",
    "        return value.lower().strip()\n",
    "    elif isinstance(value, list):\n",
    "        return [v.lower().strip() for v in value]\n",
    "    else:\n",
    "        return value"
   ]
  },
  {
   "cell_type": "markdown",
   "id": "a94f3e3c",
   "metadata": {},
   "source": [
    "## 4. Define the Prompt and Call Gemini model"
   ]
  },
  {
   "cell_type": "code",
   "execution_count": 135,
   "id": "cbee98b4",
   "metadata": {},
   "outputs": [],
   "source": [
    "def extract_resume_info(text, model):\n",
    "    # define prompt and use the model to extract name, email and skills in json format\n",
    "    prompt = f\"\"\"\n",
    "    Extract the name, email, and skills from the following resume text.\n",
    "    Return only a valid JSON object with keys 'name', 'email', and 'skills' (as a list of strings).\n",
    "    Do not include any explanation or extra text.\n",
    "\n",
    "    Resume:\n",
    "    {text}\n",
    "    \"\"\"\n",
    "    start = time.time()\n",
    "    response = model.generate_content(prompt)\n",
    "    elapsed = time.time() - start\n",
    "\n",
    "    # Parse the response safely\n",
    "    try:\n",
    "        json_match = re.search(r'\\{.*\\}', response.text, re.DOTALL)\n",
    "        if json_match:\n",
    "            result = json.loads(json_match.group())\n",
    "        else:\n",
    "            raise ValueError(\"No JSON found in response.\")\n",
    "    except Exception as e:\n",
    "        print(\"Error parsing response:\", e)\n",
    "        result = {\"name\": None, \"email\": None, \"skills\": []}\n",
    "    return result, elapsed"
   ]
  },
  {
   "cell_type": "code",
   "execution_count": 136,
   "id": "cc0123fb",
   "metadata": {},
   "outputs": [],
   "source": [
    "# Unified Parser to read text from PDF and word fromats\n",
    "def parse_resume(file_name, model, file_path = \"sample_resumes/\"):\n",
    "    ext = os.path.splitext(file_path + file_name)[-1].lower()\n",
    "    if ext == \".pdf\":\n",
    "        text = read_pdf(file_path + file_name)\n",
    "        if len(text) > 30000:\n",
    "            text = sliding_chunks(text)\n",
    "    elif ext == \".docx\":\n",
    "        text = read_docx(file_path + file_name)\n",
    "        if len(text) > 30000:\n",
    "            text = sliding_chunks(text)\n",
    "    else:\n",
    "        raise ValueError(\"Unsupported file format. Use PDF or DOCX.\")\n",
    "    return extract_resume_info(text, model)"
   ]
  },
  {
   "cell_type": "markdown",
   "id": "893fe5fb",
   "metadata": {},
   "source": [
    "## 5. Model prediction, selection and evaluation"
   ]
  },
  {
   "cell_type": "markdown",
   "id": "bbe5bbdd",
   "metadata": {},
   "source": [
    "Manually labeled the ground truth for each resume in ground_truth.json file. The prediction results using the model will be compared against the ground truth. \n",
    "\n",
    "Several models will be tested and compared, the most efficient and cost effective ones will be selected for in the production level. (Here is code to test a few free models)"
   ]
  },
  {
   "cell_type": "markdown",
   "id": "b0ea211b",
   "metadata": {},
   "source": [
    "#### 5.1 model list"
   ]
  },
  {
   "cell_type": "code",
   "execution_count": 137,
   "id": "1bf3a2e4",
   "metadata": {},
   "outputs": [],
   "source": [
    "# Test a list of gemini models\n",
    "model_names = [\"models/gemini-2.5-pro\", \n",
    "               \"models/gemini-1.5-flash-latest\",\n",
    "               \"models/gemini-1.5-pro-latest\",\n",
    "               \"models/gemini-1.5-pro\",\n",
    "               \"models/gemini-1.5-flash-8b-latest\",\n",
    "               \"models/gemini-2.5-flash\",\n",
    "               \"models/gemini-2.0-flash\"\n",
    "               ]"
   ]
  },
  {
   "cell_type": "markdown",
   "id": "a9321682",
   "metadata": {},
   "source": [
    "#### 5.2 Evaluation function"
   ]
  },
  {
   "cell_type": "code",
   "execution_count": 138,
   "id": "c8d17e1c",
   "metadata": {},
   "outputs": [],
   "source": [
    "def evaluate(parsed_results: Dict[str, dict], ground_truth: Dict[str, dict]):\n",
    "    # Evaluate the parsed results(a dictionary with str as key and dict as value) by comapring with ground truth(same format as parsed results). \n",
    "    # Benchmarks: accuracy of name/email, precison/recall/F1 score for skills. \n",
    "    \n",
    "    # A few variables to keep metrics\n",
    "    total = len(parsed_results) # number of successfully parsed results\n",
    "    name_matches = 0 # number of correctly parsed name results\n",
    "    email_matches = 0 # number of correctly parsed email results\n",
    "    precision_list = [] # skill precisions for all files\n",
    "    recall_list = [] # skill recall for all files\n",
    "    f1_list = [] # skill f1 for all files\n",
    "\n",
    "    for file_name, predicted in parsed_results.items():\n",
    "        actual = ground_truth.get(file_name, {})\n",
    "\n",
    "        # Normalized results\n",
    "        pred_name = normalize(predicted.get(\"name\"))\n",
    "        actual_name = normalize(actual.get(\"name\"))\n",
    "        pred_email = normalize(predicted.get(\"email\"))\n",
    "        actual_email = normalize(actual.get(\"email\"))\n",
    "        pred_skills = set(normalize(predicted.get(\"skills\", [])))\n",
    "        actual_skills = set(normalize(actual.get(\"skills\", [])))\n",
    "\n",
    "        #  Name & Email Accuracy\n",
    "        if pred_name == actual_name:\n",
    "            name_matches += 1\n",
    "        else: \n",
    "            print(f\"Name mismatch in {file_name}: predicted {pred_name} vs actual {actual_name}\")\n",
    "        if pred_email == actual_email:\n",
    "            email_matches += 1\n",
    "        else: \n",
    "            print(f\"Email mismatch in {file_name}: predicted {pred_email} vs actual {actual_email}\")\n",
    "\n",
    "        # Skills Precision, Recall, F1 for each file\n",
    "        if pred_skills:\n",
    "            precision = len(actual_skills & pred_skills) / len(pred_skills)\n",
    "        else:\n",
    "            precision = 0\n",
    "\n",
    "        if actual_skills:\n",
    "            recall = len(actual_skills & pred_skills) / len(actual_skills)\n",
    "        else:\n",
    "            recall = 0\n",
    "\n",
    "        if precision + recall > 0:\n",
    "            f1 = 2 * precision * recall / (precision + recall)\n",
    "        else:\n",
    "            f1 = 0\n",
    "\n",
    "        precision_list.append(precision)\n",
    "        recall_list.append(recall)\n",
    "        f1_list.append(f1)\n",
    "\n",
    "    # Aggregate Metrics\n",
    "    name_accuracy = name_matches / total\n",
    "    email_accuracy = email_matches / total\n",
    "    avg_precision = sum(precision_list) / total\n",
    "    avg_recall = sum(recall_list) / total\n",
    "    avg_f1 = sum(f1_list) / total\n",
    "\n",
    "    return name_accuracy, email_accuracy, avg_precision, avg_recall, avg_f1"
   ]
  },
  {
   "cell_type": "markdown",
   "id": "5271769a",
   "metadata": {},
   "source": [
    "#### 5.3 Run the models to make predictions and get metrics"
   ]
  },
  {
   "cell_type": "code",
   "execution_count": 139,
   "id": "7d6d4c9a",
   "metadata": {},
   "outputs": [
    {
     "name": "stdout",
     "output_type": "stream",
     "text": [
      "\n",
      " Testing model: models/gemini-2.5-pro\n",
      "✅ Parsed: resume1.pdf\n",
      "✅ Parsed: resume10.docx\n",
      "✅ Parsed: resume11.docx\n",
      "❌ Failed: resume12.docx — ResourceExhausted\n",
      "✅ Parsed: resume13.docx\n",
      "❌ Failed: resume14.docx — ResourceExhausted\n",
      "❌ Failed: resume15.docx — ResourceExhausted\n",
      "❌ Failed: resume2.pdf — ResourceExhausted\n",
      "❌ Failed: resume3.pdf — ResourceExhausted\n",
      "❌ Failed: resume4.pdf — ResourceExhausted\n",
      "parsed results is {'resume1.pdf': {'name': 'John Huber', 'email': 'email@email.com', 'skills': ['HTML5', 'CSS', 'JavaScript', 'Adobe Suite', 'Sketch', 'InVision', 'Balsamiq', 'Time management', 'Self-motivated', 'Effective communicator', 'Team oriented', 'Adobe Photoshop', 'Illustrator']}, 'resume10.docx': {'name': 'Janna Gardner', 'email': 'janna@example.com', 'skills': ['Type 96 words per minute', 'Proficient with project management software', 'Team player', 'Excellent time management skills', 'Conflict management', 'Public speaking', 'Data analytics']}, 'resume11.docx': {'name': 'JACKY WILSON', 'email': 'example@resumeviking.com', 'skills': ['CNC machining', 'OSHA Trained', 'Lathes Machines', 'Manual lathe operation', 'Mill operation', 'Grinder operation', 'Band saw operation', 'Block squaring', 'G code/M code editing', 'CNC Haas VM6 (3 axes) machinery', 'QC inspection', 'Machine and shop maintenance', 'Fixture making', 'Forklift Driver']}, 'resume13.docx': {'name': 'David Garcia', 'email': 'd.garcia@email.com', 'skills': ['ERP system', 'Picking and packing', 'Warehouse layout', 'Warehouse & Supply Chain Management', 'Just-in-time deliveries systems', 'Logistics', 'Taxfiling', 'External Reporting', 'Taxreporting']}}\n",
      "\n",
      " Testing model: models/gemini-1.5-flash-latest\n",
      "✅ Parsed: resume1.pdf\n",
      "✅ Parsed: resume10.docx\n",
      "✅ Parsed: resume11.docx\n",
      "✅ Parsed: resume12.docx\n",
      "✅ Parsed: resume13.docx\n",
      "✅ Parsed: resume14.docx\n",
      "✅ Parsed: resume15.docx\n",
      "❌ Failed: resume2.pdf — ResourceExhausted\n",
      "❌ Failed: resume3.pdf — ResourceExhausted\n",
      "❌ Failed: resume4.pdf — ResourceExhausted\n",
      "parsed results is {'resume1.pdf': {'name': 'John Huber', 'email': 'email@email.com', 'skills': ['HTML5', 'CSS', 'JavaScript', 'Adobe Suite', 'Sketch', 'InVision', 'Balsamiq', 'Time management', 'Self-motivated', 'Effective communicator', 'Team oriented']}, 'resume10.docx': {'name': 'Janna Gardner', 'email': 'janna@example.com', 'skills': ['Type 96 words per minute', 'Proficient with project management software', 'Team player', 'Excellent time management skills', 'Conflict management', 'Public speaking', 'Data analytics', 'excellent personal, communication and organization skills', 'Strong negotiating skills', 'business acumen']}, 'resume11.docx': {'name': 'JACKY WILSON', 'email': 'example@resumeviking.com', 'skills': ['CNC machining', 'OSHA Trained', 'Lathes Machines', 'manual lathe', 'mill', 'grinder', 'band saw operation', 'Block squaring', 'Minor G code/M code editing', 'Operate CNC Haas VM6 (3 axes) machinery', 'in-process QC inspection', 'machine and shop maintenance', 'fixtures including hand-drawn, and computer-aided models', 'Forklift operation']}, 'resume12.docx': {'name': 'Damien Le Grand', 'email': 'email@email.com', 'skills': ['Diagnosis', 'Repair', 'Installation', 'Customized and integrated light and audio systems', 'Training', 'Mentoring', 'Electrical component inspection', 'High Quality control of components', 'MS Office', '3D Modeling', 'Infra Design XMD', 'Team player', 'accurate', 'motivated', 'reliable', 'fast', 'friendly', 'Arduino Programming']}, 'resume13.docx': {'name': 'David Garcia', 'email': 'd.garcia@email.com', 'skills': ['ERP system', 'picking', 'packing', 'warehouse layout', 'just-in-time deliveries', 'Taxfiling', 'External Reporting', 'NDA Certifications', 'Self-employed Taxfiling Services', 'Assistant Taxreporting', 'Opstellen van aangiftes IB, VpB en OB']}, 'resume14.docx': {'name': 'Lisa Shaw', 'email': 'firstname@resumetemplate.org', 'skills': ['Business Development', 'Talent Acquisition', 'Recruitment', 'Talent Sourcing', 'Client Services', 'Candidate Facilitation', 'Strategic & Operational Management', 'Graduate Recruitment', 'Sales Strategy', 'Hiring', 'Training', 'Operational Systems', 'Consultant Management', 'Sales', 'Candidate Relationship Management', 'Interview Coordination', 'Offer Management', 'Induction Process']}, 'resume15.docx': {'name': 'M. Riley', 'email': 'm.riley@live.com', 'skills': ['Staff training', 'Recruiting', 'Customer service', 'Sales', 'Upselling', 'Food & beverage knowledge', 'Health & safety standards', 'Cost reduction', 'Operational efficiency', 'Inventory management', 'Social media marketing', 'Cross-training']}}\n",
      "Name mismatch in resume15.docx: predicted m. riley vs actual may riley\n",
      "\n",
      " Testing model: models/gemini-1.5-pro-latest\n",
      "❌ Failed: resume1.pdf — ResourceExhausted\n",
      "❌ Failed: resume10.docx — ResourceExhausted\n",
      "❌ Failed: resume11.docx — ResourceExhausted\n",
      "❌ Failed: resume12.docx — ResourceExhausted\n",
      "❌ Failed: resume13.docx — ResourceExhausted\n",
      "❌ Failed: resume14.docx — ResourceExhausted\n",
      "❌ Failed: resume15.docx — ResourceExhausted\n",
      "❌ Failed: resume2.pdf — ResourceExhausted\n",
      "❌ Failed: resume3.pdf — ResourceExhausted\n",
      "❌ Failed: resume4.pdf — ResourceExhausted\n",
      "parsed results is {}\n",
      "\n",
      " Testing model: models/gemini-1.5-pro\n",
      "❌ Failed: resume1.pdf — ResourceExhausted\n",
      "❌ Failed: resume10.docx — ResourceExhausted\n",
      "❌ Failed: resume11.docx — ResourceExhausted\n",
      "❌ Failed: resume12.docx — ResourceExhausted\n",
      "❌ Failed: resume13.docx — ResourceExhausted\n",
      "❌ Failed: resume14.docx — ResourceExhausted\n",
      "❌ Failed: resume15.docx — ResourceExhausted\n",
      "❌ Failed: resume2.pdf — ResourceExhausted\n",
      "❌ Failed: resume3.pdf — ResourceExhausted\n",
      "❌ Failed: resume4.pdf — ResourceExhausted\n",
      "parsed results is {}\n",
      "\n",
      " Testing model: models/gemini-1.5-flash-8b-latest\n",
      "❌ Failed: resume1.pdf — ResourceExhausted\n",
      "❌ Failed: resume10.docx — ResourceExhausted\n",
      "❌ Failed: resume11.docx — ResourceExhausted\n",
      "❌ Failed: resume12.docx — ResourceExhausted\n",
      "❌ Failed: resume13.docx — ResourceExhausted\n",
      "❌ Failed: resume14.docx — ResourceExhausted\n",
      "❌ Failed: resume15.docx — ResourceExhausted\n",
      "❌ Failed: resume2.pdf — ResourceExhausted\n",
      "❌ Failed: resume3.pdf — ResourceExhausted\n",
      "❌ Failed: resume4.pdf — ResourceExhausted\n",
      "parsed results is {}\n",
      "\n",
      " Testing model: models/gemini-2.5-flash\n",
      "✅ Parsed: resume1.pdf\n",
      "✅ Parsed: resume10.docx\n",
      "✅ Parsed: resume11.docx\n",
      "✅ Parsed: resume12.docx\n",
      "✅ Parsed: resume13.docx\n",
      "✅ Parsed: resume14.docx\n",
      "✅ Parsed: resume15.docx\n",
      "✅ Parsed: resume2.pdf\n",
      "✅ Parsed: resume3.pdf\n",
      "✅ Parsed: resume4.pdf\n",
      "parsed results is {'resume1.pdf': {'name': 'John Huber', 'email': 'email@email.com', 'skills': ['HTML5', 'CSS', 'JavaScript', 'Adobe Suite', 'Sketch', 'InVision', 'Balsamiq', 'Time management', 'Self-motivated', 'Effective communicator', 'Team oriented']}, 'resume10.docx': {'name': 'Janna Gardner', 'email': 'janna@example.com', 'skills': ['Type 96 words per minute', 'Proficient with project management software', 'Team player', 'Excellent time management skills', 'Conflict management', 'Public speaking', 'Data analytics']}, 'resume11.docx': {'name': 'JACKY WILSON', 'email': 'example@resumeviking.com', 'skills': ['Proficient in CNC machining', 'OSHA Trained', 'Lathes Machines', 'Inventory Management', 'Order Management', 'CNC Machine Operation', 'Precision Loading/Unloading', 'Part Accuracy Measurement', 'Dry Freight Handling', 'Warehouse Workflow Management', 'Manual Lathe Operation', 'Mill Operation', 'Grinder Operation', 'Band Saw Operation', 'Block Squaring', 'G code/M code editing', 'CNC Haas VM6 (3 axes) Operation', 'In-process QC inspection', 'Machine Maintenance', 'Shop Maintenance', 'Fixture Creation (hand-drawn, computer-aided models)', 'Metalworking Skills', 'Forklift Operation']}, 'resume12.docx': {'name': 'Damien Le Grand', 'email': 'email@email.com', 'skills': ['Certified Electrician', 'Residential Electrical Expertise', 'Industrial Electrical Expertise', 'Electrical Diagnosis', 'Electrical Repair', 'Electrical Installation', 'Customized Light Systems', 'Integrated Light Systems', 'Customized Audio Systems', 'Integrated Audio Systems', 'Training', 'Mentoring', 'Electrical Component Inspection', 'Quality Control', 'MS Office', '3D Modeling', 'Infra Design XMD', 'Teamwork', 'Accuracy', 'Motivation', 'Reliability', 'First Aid (Advanced Certified)', 'Arduino Programming']}, 'resume13.docx': {'name': 'David Garcia', 'email': 'd.garcia@email.com', 'skills': ['ERP Systems', 'Picking & Packing', 'Warehouse Management', 'Supply Chain Management', 'Logistics', 'Just-in-Time (JIT) Delivery Systems', 'Workplace Safety', 'Warehouse Layout Optimization', 'Process Improvement', 'Tax Filing', 'Tax Reporting', 'External Reporting', 'NDA Certifications', 'Tax Declaration Preparation (IB, VpB, OB)', 'Self-employment']}, 'resume14.docx': {'name': 'LISA SHAW', 'email': 'firstname@resumetemplate.org', 'skills': ['Business Development', 'Talent Acquisition', 'Recruitment', 'Talent Sourcing', 'Client Services', 'Candidate Facilitation', 'Interpersonal Skills', 'Communication Skills', 'Problem Analysis', 'Solution Finding', 'System Implementation', 'Strategic Management', 'Operational Management', 'Sales Management', 'Training & Development', 'Team Leadership', 'Performance Management', 'Candidate Management', 'Negotiation', 'Relationship Management', 'Onboarding']}, 'resume15.docx': {'name': 'M. Riley', 'email': 'm.riley@live.com', 'skills': ['Team Leadership', 'Staff Motivation', 'Detail-Oriented', 'Restaurant Management', 'Food & Beverage Expertise', 'Multi-tasking', 'Staff Training & Development', 'Recruiting & Hiring', 'Customer Service Excellence', 'Customer Satisfaction', 'Sales', 'Upselling', 'Cost Reduction', 'Operational Efficiency', 'Waste Reduction', 'Program Development', 'Cross-Training', 'Social Media Marketing', 'Promotional Strategies', 'Health & Safety Compliance', 'Inventory Management', 'Supply Chain Management', 'Process Improvement', 'Profit Optimization', 'Customer Acquisition']}, 'resume2.pdf': {'name': 'MICHELLE LOPEZ', 'email': 'email@email.com', 'skills': ['Adobe Illustrator', 'Hand Drafting', 'Fabric', 'Fashion Design', 'Design Patterns']}, 'resume3.pdf': {'name': 'Michelle Smith', 'email': 'email@email.com', 'skills': ['Client Relationship Management', 'Strategic Planning', 'Talent Development', 'Team Leadership', 'Networking', 'Sales Growth']}, 'resume4.pdf': {'name': 'Jason Miller', 'email': 'email@email.com', 'skills': ['Picking', 'Packing', 'Warehouse Sanitation', 'Counting', 'Record Keeping', 'Area Maintenance', 'Kaizen Methodology', 'Gemba Walks', '5S Methodology', 'Shipping', 'Inventory Management', 'Cleaning Equipment', 'Kanban Methodology', 'Warehousing Operations', 'Logistics and Distribution', 'Inventory Systems', 'Supply Chain Principles', 'Supply Chain Management', 'Mathematics', 'Deep Sanitation Practices', 'Quality Control', 'Workflow Management']}}\n",
      "Name mismatch in resume15.docx: predicted m. riley vs actual may riley\n",
      "\n",
      " Testing model: models/gemini-2.0-flash\n",
      "✅ Parsed: resume1.pdf\n",
      "✅ Parsed: resume10.docx\n",
      "✅ Parsed: resume11.docx\n",
      "✅ Parsed: resume12.docx\n",
      "✅ Parsed: resume13.docx\n",
      "✅ Parsed: resume14.docx\n",
      "✅ Parsed: resume15.docx\n",
      "✅ Parsed: resume2.pdf\n",
      "✅ Parsed: resume3.pdf\n",
      "✅ Parsed: resume4.pdf\n",
      "parsed results is {'resume1.pdf': {'name': 'John Huber', 'email': 'email@email.com', 'skills': ['HTML5', 'CSS', 'JavaScript', 'Adobe Suite', 'Sketch', 'InVision', 'Balsamiq', 'Time management', 'Self-motivated', 'Effective communicator', 'Team oriented']}, 'resume10.docx': {'name': 'Janna Gardner', 'email': 'janna@example.com', 'skills': ['Type 96 words per minute', 'Proficient with project management software', 'Team player', 'Excellent time management skills', 'Conflict management', 'Public speaking', 'Data analytics']}, 'resume11.docx': {'name': 'JACKY WILSON', 'email': 'example@resumeviking.com', 'skills': ['CNC machining', 'OSHA Trained', 'Lathes Machines', 'lathe', 'mill', 'grinder', 'band saw operation', 'G code', 'M code', 'CNC Haas VM6', 'QC inspection', 'machine maintenance', 'Forklift Driver']}, 'resume12.docx': {'name': 'Damien Le Grand', 'email': 'email@email.com', 'skills': ['Diagnosis', 'Repair', 'Installation', 'Customized and integrated light systems', 'Audio systems', 'Electrical component inspection', 'MS Office', '3D Modeling', 'Infra Design XMD', 'Team player', 'Accurate', 'Motivated', 'Reliable', 'Arduino Programming']}, 'resume13.docx': {'name': 'David Garcia', 'email': 'd.garcia@email.com', 'skills': ['ERP system functionality', 'picking', 'packing', 'Pack or wrap materials and products manually', 'Wrap and pack product and materials', 'warehouse layout', 'just-in-time deliveries systems', 'Logistics', 'Supply Chain Fundamentals', 'Taxfiling', 'Taxreporting']}, 'resume14.docx': {'name': 'Lisa Shaw', 'email': 'firstname@resumetemplate.org', 'skills': ['Business Development', 'Talent Acquisition', 'Recruitment', 'Talent Sourcing', 'Client Services', 'Candidate Facilitation']}, 'resume15.docx': {'name': 'M. Riley', 'email': 'm.riley@live.com', 'skills': ['Restaurant Management', 'Staff Training', 'Recruiting', 'Customer Service', 'Customer Satisfaction', 'Upselling', 'Sales', 'Cost Reduction', 'Operational Efficiencies', 'Inventory Management', 'Social Media', 'Health & Safety']}, 'resume2.pdf': {'name': 'MICHELLE LOPEZ', 'email': 'email@email.com', 'skills': ['Adobe Illustrator', 'Hand Drafting', 'Fabric', 'Fashion Design', 'Design Patterns']}, 'resume3.pdf': {'name': 'Michelle Smith', 'email': 'email@email.com', 'skills': ['Client Relationship Management', 'Strategic Planning', 'Talent Development', 'Team Leadership', 'Networking', 'Sales Growth']}, 'resume4.pdf': {'name': 'Jason Miller', 'email': 'email@email.com', 'skills': ['Cleaning Equipment', 'Mathematics', 'Deep Sanitation Practices', 'Warehousing', 'Operations', 'Logistics', 'Supply Chain', 'Inventory Management', 'Picking', 'Packing', 'Shipping', 'Record Keeping']}}\n",
      "Name mismatch in resume15.docx: predicted m. riley vs actual may riley\n"
     ]
    }
   ],
   "source": [
    "all_model_parsed_results ={}\n",
    "metrics_log = [] # metrics for model selectioin and evaluation\n",
    "for model_name in model_names:\n",
    "    print(f\"\\n Testing model: {model_name}\")\n",
    "    model = genai.GenerativeModel(model_name = model_name)\n",
    "    \n",
    "    success_count = 0\n",
    "    failure_count = 0\n",
    "    parsed_results = {}\n",
    "    failed_files = []\n",
    "    sum_elapsed = 0\n",
    "\n",
    "    for file_name in resume_files:\n",
    "        try: \n",
    "            parsed, elapsed = parse_resume(file_name, model, resume_path)\n",
    "            parsed_results[file_name] = parsed\n",
    "            success_count += 1\n",
    "            sum_elapsed += elapsed\n",
    "            print(f\"✅ Parsed: {file_name}\")\n",
    "\n",
    "        except Exception as e:\n",
    "            failure_count += 1\n",
    "            failed_files.append(file_name)\n",
    "            print(f\"❌ Failed: {file_name} — {type(e).__name__}\")\n",
    "            # Optional: wait before next attempt to avoid rate limits\n",
    "            #time.sleep(10)\n",
    "            continue\n",
    "    print(f\"parsed results is {parsed_results}\")\n",
    "\n",
    "    if parsed_results: \n",
    "        all_model_parsed_results[model_name] = parsed_results\n",
    "        total = len(resume_files)\n",
    "        success_rate = success_count / total\n",
    "        avg_latency = sum_elapsed /success_count\n",
    "        \n",
    "        name_matches, email_matches, precision, recall, f1 = evaluate(parsed_results, ground_truth)\n",
    "    \n",
    "        metrics_log.append({\n",
    "                \"model\": model_name,\n",
    "                \"success rate\": success_rate,\n",
    "                \"average_response_time\": round(avg_latency, 2),\n",
    "                \"name_match\": name_matches,\n",
    "                \"email_match\": email_matches,\n",
    "                \"skills precision\": round(precision, 3),\n",
    "                \"skills recall\": round(recall, 3),\n",
    "                \"skills f1\": round(f1, 3),\n",
    "            })"
   ]
  },
  {
   "cell_type": "markdown",
   "id": "ee110df8",
   "metadata": {},
   "source": [
    "Some observations on this step: will visualize and compare metrics in the next following cells:\n",
    "\n",
    "gemini-2.5-flash, gemini-2.0-flash successfully processed all resumes. \n",
    "\n",
    "name mismatch reported in resume15: predicted 'm. riley' vs actual 'may riley'."
   ]
  },
  {
   "cell_type": "code",
   "execution_count": 140,
   "id": "43d21f58",
   "metadata": {},
   "outputs": [
    {
     "data": {
      "text/plain": [
       "[{'model': 'models/gemini-2.5-pro',\n",
       "  'success rate': 0.4,\n",
       "  'average_response_time': 12.91,\n",
       "  'name_match': 1.0,\n",
       "  'email_match': 1.0,\n",
       "  'skills precision': 0.422,\n",
       "  'skills recall': 0.583,\n",
       "  'skills f1': 0.47},\n",
       " {'model': 'models/gemini-1.5-flash-latest',\n",
       "  'success rate': 0.7,\n",
       "  'average_response_time': 1.2,\n",
       "  'name_match': 0.8571428571428571,\n",
       "  'email_match': 1.0,\n",
       "  'skills precision': 0.214,\n",
       "  'skills recall': 0.333,\n",
       "  'skills f1': 0.255},\n",
       " {'model': 'models/gemini-2.5-flash',\n",
       "  'success rate': 1.0,\n",
       "  'average_response_time': 7.01,\n",
       "  'name_match': 0.9,\n",
       "  'email_match': 1.0,\n",
       "  'skills precision': 0.395,\n",
       "  'skills recall': 0.567,\n",
       "  'skills f1': 0.424},\n",
       " {'model': 'models/gemini-2.0-flash',\n",
       "  'success rate': 1.0,\n",
       "  'average_response_time': 1.06,\n",
       "  'name_match': 0.9,\n",
       "  'email_match': 1.0,\n",
       "  'skills precision': 0.405,\n",
       "  'skills recall': 0.533,\n",
       "  'skills f1': 0.437}]"
      ]
     },
     "execution_count": 140,
     "metadata": {},
     "output_type": "execute_result"
    }
   ],
   "source": [
    "metrics_log"
   ]
  },
  {
   "cell_type": "markdown",
   "id": "c357a47a",
   "metadata": {},
   "source": [
    "#### 5.4 Model comparison and visualization"
   ]
  },
  {
   "cell_type": "code",
   "execution_count": 141,
   "id": "88ff815f",
   "metadata": {},
   "outputs": [],
   "source": [
    "# Compare models and get best one that serve your purpose with high success rate, name_match, precision, recall\n",
    "df = pd.DataFrame(metrics_log)\n",
    "df[\"model\"] = df[\"model\"].str.replace(\"models/\", \"\")  # clean model names\n",
    "# Select metrics to plot\n",
    "metrics = [\"success rate\", \"average_response_time\", \"name_match\", \"email_match\",\n",
    "           \"skills precision\", \"skills recall\", \"skills f1\"]"
   ]
  },
  {
   "cell_type": "code",
   "execution_count": 142,
   "id": "6631c8b8",
   "metadata": {},
   "outputs": [
    {
     "name": "stderr",
     "output_type": "stream",
     "text": [
      "C:\\Users\\Jena\\AppData\\Local\\Temp\\ipykernel_1032\\4009895493.py:16: UserWarning: Glyph 128202 (\\N{BAR CHART}) missing from font(s) DejaVu Sans.\n",
      "  plt.tight_layout()\n",
      "c:\\Users\\Jena\\Documents\\professional\\resumeParser\\venv\\Lib\\site-packages\\IPython\\core\\pylabtools.py:170: UserWarning: Glyph 128202 (\\N{BAR CHART}) missing from font(s) DejaVu Sans.\n",
      "  fig.canvas.print_figure(bytes_io, **kw)\n"
     ]
    },
    {
     "data": {
      "image/png": "[encoded data removed]",
      "text/plain": [
       "<Figure size 1400x600 with 1 Axes>"
      ]
     },
     "metadata": {},
     "output_type": "display_data"
    }
   ],
   "source": [
    "# Visulization\n",
    "x = np.arange(len(df[\"model\"]))  # Number of models\n",
    "width = 0.1  # Width of each bar\n",
    "\n",
    "# Plot\n",
    "plt.figure(figsize=(14, 6))\n",
    "for i, metric in enumerate(metrics):\n",
    "    plt.bar(x + i * width, df[metric], width, label=metric)\n",
    "\n",
    "# Labels and formatting\n",
    "plt.xticks(x + width * (len(metrics) / 2), df[\"model\"], rotation=45, ha=\"right\")\n",
    "plt.ylabel(\"Metric Value\")\n",
    "plt.title(\"📊 Gemini Model Benchmark Comparison\")\n",
    "plt.legend(loc=\"upper left\", bbox_to_anchor=(1, 1))\n",
    "plt.grid(axis=\"y\", linestyle=\"--\", alpha=0.5)\n",
    "plt.tight_layout()\n",
    "plt.show()"
   ]
  },
  {
   "cell_type": "markdown",
   "id": "fd87c977",
   "metadata": {},
   "source": [
    "Summary: gemini-2.0-flash has the most balanced performace of success rate, skills precision, while the average response time is still short. So this model will be selected in the final pipeline. "
   ]
  },
  {
   "cell_type": "markdown",
   "id": "a48eff1a",
   "metadata": {},
   "source": [
    "## 6. Parse the results using the best performed model"
   ]
  },
  {
   "cell_type": "markdown",
   "id": "8b454d0b",
   "metadata": {},
   "source": [
    "After the model selection, use the best performed model to parse resume one at each time"
   ]
  },
  {
   "cell_type": "code",
   "execution_count": 143,
   "id": "aa8a738f",
   "metadata": {},
   "outputs": [],
   "source": [
    "# resume file name: here we use resume1.pdf in the sample_resumes as an example\n",
    "file_name = \"resume1.pdf\""
   ]
  },
  {
   "cell_type": "code",
   "execution_count": null,
   "id": "914b39ef",
   "metadata": {},
   "outputs": [
    {
     "name": "stdout",
     "output_type": "stream",
     "text": [
      "✅ Parsed: resume1.pdf\n",
      "parsed results is {'resume1.pdf': {'name': 'John Huber', 'email': 'email@email.com', 'skills': ['HTML5', 'CSS', 'JavaScript', 'Adobe Suite', 'Sketch', 'InVision', 'Balsamiq', 'Time management', 'Self-motivated', 'Effective communicator', 'Team oriented']}}\n",
      "model: models/gemini-2.0-flash,\n",
      "            success rate: 1.0,\n",
      "            response_time: 1.05,\n",
      "            name_match: 1.0,\n",
      "            email_match: 1.0,\n",
      "            skills precision: 0.727,\n",
      "            skills recall: 1.0,\n",
      "            skills f: 0.842\n"
     ]
    }
   ],
   "source": [
    "# Use the picked model to parse the resume\n",
    "model_name_picked = 'models/gemini-2.0-flash'\n",
    "model_picked = genai.GenerativeModel(model_name = model_name_picked)\n",
    "    \n",
    "\n",
    "parsed_results = {}\n",
    "\n",
    "try: \n",
    "    parsed, elapsed = parse_resume(file_name, model_picked, resume_path)\n",
    "    parsed_results[file_name] = parsed\n",
    "    success_count += 1\n",
    "    sum_elapsed += elapsed\n",
    "    print(f\"✅ Parsed: {file_name}\")\n",
    "\n",
    "except Exception as e:\n",
    "    failure_count += 1\n",
    "    failed_files.append(file_name)\n",
    "    print(f\"❌ Failed: {file_name} — {type(e).__name__}\")\n",
    "\n",
    "print(f\"parsed results is {parsed_results}\")\n",
    "\n",
    "if parsed_results:      \n",
    "    name_accuracy, email_accuracy, precision, recall, f1 = evaluate(parsed_results, ground_truth)\n",
    "    \n",
    "    print(f\"\"\"model: {model_name_picked},\n",
    "            success rate: {success_rate},\n",
    "            response_time: {round(elapsed, 2)},\n",
    "            name_match: {name_accuracy},\n",
    "            email_match: {email_accuracy},\n",
    "            skills precision: {round(precision, 3)},\n",
    "            skills recall: {round(recall, 3)},\n",
    "            skills f: {round(f1, 3)}\"\"\"\n",
    "        )"
   ]
  },
  {
   "cell_type": "markdown",
   "id": "0b80333c",
   "metadata": {},
   "source": [
    "## 7. Save the results as json file"
   ]
  },
  {
   "cell_type": "code",
   "execution_count": 145,
   "id": "1f7d5b71",
   "metadata": {},
   "outputs": [
    {
     "name": "stdout",
     "output_type": "stream",
     "text": [
      "✅ Saved parsed results to parsed_results\\parsed_results_2025-09-22_15-10-45.json\n"
     ]
    }
   ],
   "source": [
    "# Save the parsed results as a josn file: file name followed with the time stamp to avoid overwritten\n",
    "\n",
    "# Create output folder\n",
    "output_folder = \"parsed_results\"\n",
    "os.makedirs(output_folder, exist_ok=True)\n",
    "\n",
    "timestamp = datetime.now().strftime(\"%Y-%m-%d_%H-%M-%S\")\n",
    "filename = f\"parsed_results_{timestamp}.json\"\n",
    "file_path = os.path.join(output_folder, filename)\n",
    "\n",
    "with open(file_path, \"w\") as f:\n",
    "    json.dump(parsed_results, f, indent=2)\n",
    "\n",
    "print(f\"✅ Saved parsed results to {file_path}\")"
   ]
  }
 ],
 "metadata": {
  "kernelspec": {
   "display_name": "venv",
   "language": "python",
   "name": "python3"
  },
  "language_info": {
   "codemirror_mode": {
    "name": "ipython",
    "version": 3
   },
   "file_extension": ".py",
   "mimetype": "text/x-python",
   "name": "python",
   "nbconvert_exporter": "python",
   "pygments_lexer": "ipython3",
   "version": "3.12.2"
  }
 },
 "nbformat": 4,
 "nbformat_minor": 5
}
